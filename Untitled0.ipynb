{
  "nbformat": 4,
  "nbformat_minor": 0,
  "metadata": {
    "colab": {
      "provenance": [],
      "authorship_tag": "ABX9TyOLEiNMuElKm2MOCdN3oJr8",
      "include_colab_link": true
    },
    "kernelspec": {
      "name": "python3",
      "display_name": "Python 3"
    },
    "language_info": {
      "name": "python"
    }
  },
  "cells": [
    {
      "cell_type": "markdown",
      "metadata": {
        "id": "view-in-github",
        "colab_type": "text"
      },
      "source": [
        "<a href=\"https://colab.research.google.com/github/Akshay3306/23CSBTB-27/blob/main/Untitled0.ipynb\" target=\"_parent\"><img src=\"https://colab.research.google.com/assets/colab-badge.svg\" alt=\"Open In Colab\"/></a>"
      ]
    },
    {
      "cell_type": "code",
      "execution_count": null,
      "metadata": {
        "colab": {
          "base_uri": "https://localhost:8080/"
        },
        "id": "SDI4mDRQmE6U",
        "outputId": "10bed4b7-b19b-4346-d78f-2d8fe7612fa6"
      },
      "outputs": [
        {
          "output_type": "stream",
          "name": "stdout",
          "text": [
            "{1, 2, 5, 6, 7}\n",
            "{8, 1, 3, 6}\n"
          ]
        }
      ],
      "source": [
        "import numpy as np\n",
        "list={1,5,2,6,7}\n",
        "list1={3,6,1,8}\n",
        "print(list)\n",
        "print(list1)"
      ]
    },
    {
      "cell_type": "code",
      "source": [
        "list=[\"Greek\",\"for\",\"Greeks\"]\n",
        "list2=\"my first lab\"\n",
        "list3=4.3\n",
        "list4=2j+6\n",
        "list5=\"my first lab\"\n",
        "print(type(list2))\n",
        "print(type(list3))\n",
        "print(type(list4))\n",
        "print(type(list5))\n",
        "print(\"\\nlist item :\")\n",
        "print(list)\n",
        "print(type(list))\n",
        "print(list[0])"
      ],
      "metadata": {
        "colab": {
          "base_uri": "https://localhost:8080/"
        },
        "id": "rxNt0FDJm2Ub",
        "outputId": "82559f84-8b7f-4151-b42e-4fef88eb3af3"
      },
      "execution_count": null,
      "outputs": [
        {
          "output_type": "stream",
          "name": "stdout",
          "text": [
            "<class 'str'>\n",
            "<class 'float'>\n",
            "<class 'complex'>\n",
            "<class 'str'>\n",
            "\n",
            "list item :\n",
            "['Greek', 'for', 'Greeks']\n",
            "<class 'list'>\n",
            "Greek\n"
          ]
        }
      ]
    },
    {
      "cell_type": "code",
      "source": [
        "list = {1:\"Greeek1\",2: 'greeks','for':3,'Greeks':6}\n",
        "print(\"\\nlist with te use mixed values:\")\n",
        "print(list)\n",
        "print(type(list))"
      ],
      "metadata": {
        "id": "wh7abiR5oJ7r",
        "colab": {
          "base_uri": "https://localhost:8080/"
        },
        "outputId": "e04c390c-f87c-4850-fb4a-a2840144cf4f"
      },
      "execution_count": 7,
      "outputs": [
        {
          "output_type": "stream",
          "name": "stdout",
          "text": [
            "\n",
            "list with te use mixed values:\n",
            "{1: 'Greeek1', 2: 'greeks', 'for': 3, 'Greeks': 6}\n",
            "<class 'dict'>\n"
          ]
        }
      ]
    }
  ]
}